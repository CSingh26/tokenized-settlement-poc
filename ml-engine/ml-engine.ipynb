{
 "cells": [
  {
   "cell_type": "markdown",
   "id": "039033ec-03df-42f8-b32a-f0a51663de5c",
   "metadata": {},
   "source": [
    "# Imports"
   ]
  },
  {
   "cell_type": "code",
   "execution_count": 1,
   "id": "7a2fa06c-cc1a-40a9-9de6-d4ba7b918719",
   "metadata": {},
   "outputs": [],
   "source": [
    "import pandas as pd\n",
    "import numpy as np\n",
    "from sklearn.ensemble import IsolationForest\n",
    "import xgboost as xgb\n",
    "from sklearn.linear_model import LogisticRegression\n",
    "from sklearn.ensemble import RandomForestClassifier\n",
    "from sklearn.model_selection import train_test_split\n",
    "from sklearn.metrics import classification_report, confusion_matrix\n",
    "from sklearn.preprocessing import LabelEncoder\n",
    "import joblib"
   ]
  },
  {
   "cell_type": "markdown",
   "id": "7543693c-87a6-46ea-ae02-a060db5a4759",
   "metadata": {},
   "source": [
    "# Loading Data"
   ]
  },
  {
   "cell_type": "code",
   "execution_count": 2,
   "id": "17d78d18-c4d9-445b-9627-68780d8c88c8",
   "metadata": {},
   "outputs": [
    {
     "data": {
      "text/html": [
       "<div>\n",
       "<style scoped>\n",
       "    .dataframe tbody tr th:only-of-type {\n",
       "        vertical-align: middle;\n",
       "    }\n",
       "\n",
       "    .dataframe tbody tr th {\n",
       "        vertical-align: top;\n",
       "    }\n",
       "\n",
       "    .dataframe thead th {\n",
       "        text-align: right;\n",
       "    }\n",
       "</style>\n",
       "<table border=\"1\" class=\"dataframe\">\n",
       "  <thead>\n",
       "    <tr style=\"text-align: right;\">\n",
       "      <th></th>\n",
       "      <th>txn_id</th>\n",
       "      <th>from_wallet</th>\n",
       "      <th>to_wallet</th>\n",
       "      <th>amount</th>\n",
       "      <th>timestamp</th>\n",
       "      <th>asset_type</th>\n",
       "      <th>is_fraud</th>\n",
       "    </tr>\n",
       "  </thead>\n",
       "  <tbody>\n",
       "    <tr>\n",
       "      <th>0</th>\n",
       "      <td>T04911</td>\n",
       "      <td>W0049</td>\n",
       "      <td>W0050</td>\n",
       "      <td>504353.35</td>\n",
       "      <td>2025-05-31 15:16:00</td>\n",
       "      <td>USD</td>\n",
       "      <td>0</td>\n",
       "    </tr>\n",
       "    <tr>\n",
       "      <th>1</th>\n",
       "      <td>T06318</td>\n",
       "      <td>W0006</td>\n",
       "      <td>W0093</td>\n",
       "      <td>400301.59</td>\n",
       "      <td>2025-05-31 14:40:00</td>\n",
       "      <td>BOND</td>\n",
       "      <td>0</td>\n",
       "    </tr>\n",
       "    <tr>\n",
       "      <th>2</th>\n",
       "      <td>T04443</td>\n",
       "      <td>W0022</td>\n",
       "      <td>W0011</td>\n",
       "      <td>483249.08</td>\n",
       "      <td>2025-05-31 12:25:00</td>\n",
       "      <td>BOND</td>\n",
       "      <td>0</td>\n",
       "    </tr>\n",
       "    <tr>\n",
       "      <th>3</th>\n",
       "      <td>T00226</td>\n",
       "      <td>W0100</td>\n",
       "      <td>W0084</td>\n",
       "      <td>398969.66</td>\n",
       "      <td>2025-05-31 15:21:00</td>\n",
       "      <td>USD</td>\n",
       "      <td>0</td>\n",
       "    </tr>\n",
       "    <tr>\n",
       "      <th>4</th>\n",
       "      <td>T04230</td>\n",
       "      <td>W0034</td>\n",
       "      <td>W0070</td>\n",
       "      <td>481908.66</td>\n",
       "      <td>2025-05-31 11:15:00</td>\n",
       "      <td>FX</td>\n",
       "      <td>0</td>\n",
       "    </tr>\n",
       "  </tbody>\n",
       "</table>\n",
       "</div>"
      ],
      "text/plain": [
       "   txn_id from_wallet to_wallet     amount            timestamp asset_type  \\\n",
       "0  T04911       W0049     W0050  504353.35  2025-05-31 15:16:00        USD   \n",
       "1  T06318       W0006     W0093  400301.59  2025-05-31 14:40:00       BOND   \n",
       "2  T04443       W0022     W0011  483249.08  2025-05-31 12:25:00       BOND   \n",
       "3  T00226       W0100     W0084  398969.66  2025-05-31 15:21:00        USD   \n",
       "4  T04230       W0034     W0070  481908.66  2025-05-31 11:15:00         FX   \n",
       "\n",
       "   is_fraud  \n",
       "0         0  \n",
       "1         0  \n",
       "2         0  \n",
       "3         0  \n",
       "4         0  "
      ]
     },
     "execution_count": 2,
     "metadata": {},
     "output_type": "execute_result"
    }
   ],
   "source": [
    "data = pd.read_csv(\"data/data.csv\")\n",
    "data.head()"
   ]
  },
  {
   "cell_type": "markdown",
   "id": "79f79d26-c8e3-4877-96f0-850fac9b7f68",
   "metadata": {},
   "source": [
    "# Pre-processesing the Data"
   ]
  },
  {
   "cell_type": "code",
   "execution_count": 3,
   "id": "08016ec3-5a00-4197-aa0f-f3dd986a9782",
   "metadata": {},
   "outputs": [],
   "source": [
    "data[\"asset_type\"] = LabelEncoder().fit_transform(data[\"asset_type\"])\n",
    "X = data.drop(columns=[\"txn_id\", \"from_wallet\", \"to_wallet\", \"timestamp\", \"is_fraud\"])\n",
    "y = data[\"is_fraud\"]\n",
    "\n",
    "#spliting dataset\n",
    "XTrain, XTest, yTrain, yTest = train_test_split(X, y, test_size=0.3, stratify=y, random_state=42)"
   ]
  },
  {
   "cell_type": "markdown",
   "id": "05d71cca-14de-4baf-9f80-3a2eb9a575f9",
   "metadata": {},
   "source": [
    "# Training Isolation Forest"
   ]
  },
  {
   "cell_type": "code",
   "execution_count": 4,
   "id": "66a2d565-21fb-475a-84df-f46af8660a66",
   "metadata": {},
   "outputs": [],
   "source": [
    "model = IsolationForest(n_estimators=100, contamination=0.235, random_state=42)\n",
    "model.fit(X)\n",
    "scores = model.decision_function(X)\n",
    "predictions = model.predict(X)\n",
    "predictions = np.where(predictions == -1, 1, 0)"
   ]
  },
  {
   "cell_type": "code",
   "execution_count": 5,
   "id": "7d1fd573-84e9-4f03-9ed6-2935ecb2bd5e",
   "metadata": {},
   "outputs": [
    {
     "name": "stdout",
     "output_type": "stream",
     "text": [
      "[[6927  723]\n",
      " [ 724 1626]]\n",
      "              precision    recall  f1-score   support\n",
      "\n",
      "           0       0.91      0.91      0.91      7650\n",
      "           1       0.69      0.69      0.69      2350\n",
      "\n",
      "    accuracy                           0.86     10000\n",
      "   macro avg       0.80      0.80      0.80     10000\n",
      "weighted avg       0.86      0.86      0.86     10000\n",
      "\n"
     ]
    }
   ],
   "source": [
    "print(confusion_matrix(y, predictions))\n",
    "print(classification_report(y, predictions))"
   ]
  },
  {
   "cell_type": "code",
   "execution_count": 6,
   "id": "f1af2513-2797-42c6-8a4d-ada8ee148295",
   "metadata": {},
   "outputs": [
    {
     "data": {
      "text/plain": [
       "['IsolationForest.pkl']"
      ]
     },
     "execution_count": 6,
     "metadata": {},
     "output_type": "execute_result"
    }
   ],
   "source": [
    "#saving model for FASTAPI use\n",
    "joblib.dump(model, \"IsolationForest.pkl\")"
   ]
  },
  {
   "cell_type": "markdown",
   "id": "9290c42d-2f8a-4ebf-857e-28057c143761",
   "metadata": {},
   "source": [
    "# Training Random Forest"
   ]
  },
  {
   "cell_type": "code",
   "execution_count": 7,
   "id": "c2d2fb9e-d012-475d-bc1d-44875d238791",
   "metadata": {},
   "outputs": [],
   "source": [
    "model = RandomForestClassifier(n_estimators=100, random_state=42)\n",
    "model.fit(XTrain, yTrain)\n",
    "predictions = model.predict(XTest)"
   ]
  },
  {
   "cell_type": "code",
   "execution_count": 8,
   "id": "f5e9a8c5-2e2b-4af4-a822-89d59eafd58f",
   "metadata": {},
   "outputs": [
    {
     "name": "stdout",
     "output_type": "stream",
     "text": [
      "[[2295    0]\n",
      " [   0  705]]\n",
      "              precision    recall  f1-score   support\n",
      "\n",
      "           0       1.00      1.00      1.00      2295\n",
      "           1       1.00      1.00      1.00       705\n",
      "\n",
      "    accuracy                           1.00      3000\n",
      "   macro avg       1.00      1.00      1.00      3000\n",
      "weighted avg       1.00      1.00      1.00      3000\n",
      "\n"
     ]
    }
   ],
   "source": [
    "print(confusion_matrix(yTest, predictions))\n",
    "print(classification_report(yTest, predictions))"
   ]
  },
  {
   "cell_type": "code",
   "execution_count": 9,
   "id": "5fbda2ba-b558-4578-bcfe-406ba58af802",
   "metadata": {},
   "outputs": [
    {
     "data": {
      "text/plain": [
       "['RandomForest.pkl']"
      ]
     },
     "execution_count": 9,
     "metadata": {},
     "output_type": "execute_result"
    }
   ],
   "source": [
    "#saving model for FASTAPI use\n",
    "joblib.dump(model, \"RandomForest.pkl\")"
   ]
  },
  {
   "cell_type": "markdown",
   "id": "b22496ab-514f-4d7c-81a4-88216006e467",
   "metadata": {},
   "source": [
    "# Training Logistic Regression "
   ]
  },
  {
   "cell_type": "code",
   "execution_count": 10,
   "id": "4ecebe91-4498-46f7-9fac-d9dbcf1edabc",
   "metadata": {},
   "outputs": [],
   "source": [
    "model = LogisticRegression(max_iter=1000)\n",
    "model.fit(XTrain, yTrain)\n",
    "predictions = model.predict(XTest)"
   ]
  },
  {
   "cell_type": "code",
   "execution_count": 11,
   "id": "ccbbc942-9103-465f-8f96-6a12a8c2b835",
   "metadata": {},
   "outputs": [
    {
     "name": "stdout",
     "output_type": "stream",
     "text": [
      "              precision    recall  f1-score   support\n",
      "\n",
      "           0       1.00      1.00      1.00      2295\n",
      "           1       1.00      1.00      1.00       705\n",
      "\n",
      "    accuracy                           1.00      3000\n",
      "   macro avg       1.00      1.00      1.00      3000\n",
      "weighted avg       1.00      1.00      1.00      3000\n",
      "\n",
      "[[2295    0]\n",
      " [   0  705]]\n"
     ]
    }
   ],
   "source": [
    "print(classification_report(yTest, predictions))\n",
    "print(confusion_matrix(yTest, predictions))"
   ]
  },
  {
   "cell_type": "code",
   "execution_count": 12,
   "id": "317d0e6b-e02b-4a31-8fd8-16ec8401a6cd",
   "metadata": {},
   "outputs": [
    {
     "data": {
      "text/plain": [
       "['LogisticRegression.pkl']"
      ]
     },
     "execution_count": 12,
     "metadata": {},
     "output_type": "execute_result"
    }
   ],
   "source": [
    "#saving model for FASTAPI use\n",
    "joblib.dump(model, \"LogisticRegression.pkl\")"
   ]
  },
  {
   "cell_type": "markdown",
   "id": "71d20bc2-ecc5-4d0d-8e33-1efd4bbb2b27",
   "metadata": {},
   "source": [
    "# Training XGBoost"
   ]
  },
  {
   "cell_type": "code",
   "execution_count": 13,
   "id": "3e1acb25-b5e0-400c-a008-4baf4a173ca3",
   "metadata": {},
   "outputs": [],
   "source": [
    "model = xgb.XGBClassifier(n_estimators=100, learning_rate=0.1, max_depth=5, eval_metric='logloss')\n",
    "model.fit(XTrain, yTrain)\n",
    "predictions = model.predict(XTest)"
   ]
  },
  {
   "cell_type": "code",
   "execution_count": 14,
   "id": "13c68fbe-7df9-4d3a-83fd-f6bf59b44c0e",
   "metadata": {},
   "outputs": [
    {
     "name": "stdout",
     "output_type": "stream",
     "text": [
      "              precision    recall  f1-score   support\n",
      "\n",
      "           0       1.00      1.00      1.00      2295\n",
      "           1       1.00      0.99      1.00       705\n",
      "\n",
      "    accuracy                           1.00      3000\n",
      "   macro avg       1.00      1.00      1.00      3000\n",
      "weighted avg       1.00      1.00      1.00      3000\n",
      "\n",
      "[[2295    0]\n",
      " [   5  700]]\n"
     ]
    }
   ],
   "source": [
    "print(classification_report(yTest, predictions))\n",
    "print(confusion_matrix(yTest, predictions))"
   ]
  },
  {
   "cell_type": "code",
   "execution_count": 15,
   "id": "cd755810-ada5-4667-8a20-442ed3afa23a",
   "metadata": {},
   "outputs": [
    {
     "data": {
      "text/plain": [
       "['XGBoost.pkl']"
      ]
     },
     "execution_count": 15,
     "metadata": {},
     "output_type": "execute_result"
    }
   ],
   "source": [
    "#saving model for FASTAPI use\n",
    "joblib.dump(model, \"XGBoost.pkl\")"
   ]
  },
  {
   "cell_type": "code",
   "execution_count": null,
   "id": "e446e14a-2953-47fd-b1bc-1589c7cb14a1",
   "metadata": {},
   "outputs": [],
   "source": []
  },
  {
   "cell_type": "code",
   "execution_count": null,
   "id": "f80e25f9-9982-4a97-9da1-80c4877a4db7",
   "metadata": {},
   "outputs": [],
   "source": []
  }
 ],
 "metadata": {
  "kernelspec": {
   "display_name": "Python (ml-engine)",
   "language": "python",
   "name": "ml-engine"
  },
  "language_info": {
   "codemirror_mode": {
    "name": "ipython",
    "version": 3
   },
   "file_extension": ".py",
   "mimetype": "text/x-python",
   "name": "python",
   "nbconvert_exporter": "python",
   "pygments_lexer": "ipython3",
   "version": "3.13.3"
  }
 },
 "nbformat": 4,
 "nbformat_minor": 5
}
